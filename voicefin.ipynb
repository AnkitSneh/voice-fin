{
 "cells": [
  {
   "cell_type": "code",
   "execution_count": 3,
   "metadata": {},
   "outputs": [],
   "source": [
    "import requests\n",
    "import speech_recognition as sr\n",
    "from gtts import gTTS\n",
    "import os\n",
    "from playsound import playsound\n"
   ]
  },
  {
   "cell_type": "code",
   "execution_count": 5,
   "metadata": {},
   "outputs": [],
   "source": [
    "\n",
    "# Set Ollama endpoint and model details\n",
    "OLLAMA_URL = \"http://localhost:11434/api/chat\"  # Default Ollama API URL\n",
    "MODEL_NAME = \"QuantFactory/Llama-3-8B-Instruct-Finance-RAG-GGUF:Q3_K_S\"\n",
    "\n",
    "def get_voice_input():\n",
    "    \"\"\"Capture and transcribe voice input using a microphone.\"\"\"\n",
    "    recognizer = sr.Recognizer()\n",
    "    with sr.Microphone() as source:\n",
    "        print(\"Listening for your query...\")\n",
    "        recognizer.adjust_for_ambient_noise(source)\n",
    "        try:\n",
    "            audio = recognizer.listen(source)\n",
    "            text = recognizer.recognize_google(audio)\n",
    "            print(f\"You said: {text}\")\n",
    "            return text\n",
    "        except sr.UnknownValueError:\n",
    "            print(\"Sorry, I could not understand the audio.\")\n",
    "            return None\n",
    "        except sr.RequestError as e:\n",
    "            print(f\"Speech recognition error: {e}\")\n",
    "            return None\n",
    "\n",
    "def query_ollama(model_name, prompt):\n",
    "    \"\"\"Send the prompt to Ollama and get the response.\"\"\"\n",
    "    payload = {\n",
    "        \"model\": model_name,\n",
    "        \"prompt\": prompt,\n",
    "    }\n",
    "    try:\n",
    "        response = requests.post(OLLAMA_URL, json=payload)\n",
    "        response.raise_for_status()\n",
    "        return response.json().get(\"response\", \"\")\n",
    "    except requests.exceptions.RequestException as e:\n",
    "        print(f\"Error querying Ollama: {e}\")\n",
    "        return None\n",
    "\n",
    "def text_to_speech(text, filename=\"response.mp3\"):\n",
    "    \"\"\"Convert text to speech and save it to a file.\"\"\"\n",
    "    tts = gTTS(text=text, lang='en')\n",
    "    tts.save(filename)\n",
    "    playsound(filename)\n",
    "    os.remove(filename)\n",
    "\n",
    "def main():\n",
    "    \"\"\"Main function to handle voice interaction.\"\"\"\n",
    "    while True:\n",
    "        print(\"\\nSay 'exit' to quit.\")\n",
    "        user_input = get_voice_input()\n",
    "        if user_input is None:\n",
    "            continue\n",
    "        if user_input.lower() == \"exit\":\n",
    "            print(\"Exiting. Goodbye!\")\n",
    "            break\n",
    "\n",
    "        # Query the model\n",
    "        response = query_ollama(MODEL_NAME, user_input)\n",
    "        if response:\n",
    "            print(f\"Model response: {response}\")\n",
    "\n",
    "            # Convert response to speech\n",
    "            text_to_speech(response)\n",
    "        else:\n",
    "            print(\"No response from the model.\")\n"
   ]
  },
  {
   "cell_type": "code",
   "execution_count": null,
   "metadata": {},
   "outputs": [],
   "source": [
    "\n",
    "if __name__ == \"__main__\":\n",
    "    main()\n"
   ]
  }
 ],
 "metadata": {
  "kernelspec": {
   "display_name": "venv",
   "language": "python",
   "name": "python3"
  },
  "language_info": {
   "codemirror_mode": {
    "name": "ipython",
    "version": 3
   },
   "file_extension": ".py",
   "mimetype": "text/x-python",
   "name": "python",
   "nbconvert_exporter": "python",
   "pygments_lexer": "ipython3",
   "version": "3.12.0"
  }
 },
 "nbformat": 4,
 "nbformat_minor": 2
}
